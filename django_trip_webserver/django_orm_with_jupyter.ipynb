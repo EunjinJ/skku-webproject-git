{
 "cells": [
  {
   "cell_type": "code",
   "execution_count": 7,
   "metadata": {},
   "outputs": [],
   "source": [
    "import os, sys\n",
    "# PWD = os.getenv('PWD')\n",
    "PWD = os.path.abspath('.')\n",
    "\n",
    "PROJ_MISSING_MSG = \"\"\"Set an enviroment variable:\\n\n",
    "`DJANGO_PROJECT=your_project_name`\\n\n",
    "or call:\\n\n",
    "`init_django(your_project_name)`\n",
    "\"\"\"\n",
    "\n",
    "def init_django(project_name=None):\n",
    "    os.chdir(PWD)\n",
    "    project_name = project_name or os.environ.get('DJANGO_PROJECT') or None\n",
    "    if project_name == None:\n",
    "        raise Exception(PROJ_MISSING_MSG)\n",
    "    sys.path.insert(0, os.getenv('PWD'))\n",
    "    os.environ.setdefault('DJANGO_SETTINGS_MODULE', f'{project_name}.settings')\n",
    "    os.environ[\"DJANGO_ALLOW_ASYNC_UNSAFE\"] = \"true\"\n",
    "    import django\n",
    "    django.setup()"
   ]
  },
  {
   "cell_type": "code",
   "execution_count": 8,
   "metadata": {},
   "outputs": [],
   "source": [
    "init_django('django_trip_webserver') #project name"
   ]
  },
  {
   "cell_type": "code",
   "execution_count": 9,
   "metadata": {},
   "outputs": [],
   "source": [
    "from board.models import Trip, Review, ReviewComment\n",
    "from main.models import TripCategory, AreaL, AreaM\n",
    "from user.models import User"
   ]
  },
  {
   "cell_type": "code",
   "execution_count": 4,
   "metadata": {},
   "outputs": [],
   "source": [
    "trip_category = TripCategory(\n",
    "    trip_category_name = '명소'\n",
    ")\n",
    "\n",
    "trip_category.save()"
   ]
  },
  {
   "cell_type": "code",
   "execution_count": 5,
   "metadata": {},
   "outputs": [],
   "source": [
    "area_large = AreaL(\n",
    "    area_l_name='서울'\n",
    ")\n",
    "\n",
    "area_large.save()"
   ]
  },
  {
   "cell_type": "code",
   "execution_count": 6,
   "metadata": {},
   "outputs": [],
   "source": [
    "area_medium = AreaM(\n",
    "    area_l_id = area_large,\n",
    "    area_m_name = '종로'\n",
    ")\n",
    "\n",
    "area_medium.save()"
   ]
  },
  {
   "cell_type": "code",
   "execution_count": 7,
   "metadata": {},
   "outputs": [],
   "source": [
    "for i in range(9):\n",
    "    Trip.objects.create(\n",
    "        trip_category_id = TripCategory.objects.get(id=1),\n",
    "        trip_category_detail = '상세한 설명',\n",
    "        trip_name = f'종로 여행지{i}',\n",
    "        trip_address = f'{i*534}{i*34643}',\n",
    "        area_m = AreaM.objects.get(id=1),\n",
    "        trip_time = '11:00:00',\n",
    "        trip_phone = f'010-{i}{i}{i}{i}-{i}{i}{i}{i}',\n",
    "        trip_homepage = f'https://jonglo{i*463}{i*2325}.com',\n",
    "        is_deleted = False\n",
    "    )"
   ]
  },
  {
   "cell_type": "code",
   "execution_count": 8,
   "metadata": {},
   "outputs": [],
   "source": [
    "user = User(\n",
    "    user_name = '정재민',\n",
    "    user_password = '1234',\n",
    "    trip_category_1_id = trip_category,\n",
    "    trip_category_2_id = trip_category,\n",
    "    trip_category_3_id = trip_category,\n",
    "    is_deleted = False\n",
    ")\n",
    "\n",
    "user.save()"
   ]
  },
  {
   "cell_type": "code",
   "execution_count": 9,
   "metadata": {},
   "outputs": [],
   "source": [
    "from django.utils import timezone\n",
    "\n",
    "for i in range(2):\n",
    "    for j in range(5):\n",
    "        Review.objects.create(\n",
    "            user_id = user,\n",
    "            trip_id = Trip.objects.get(id = 1),\n",
    "            review_title = '여기 꼭 가보세요',\n",
    "            review_content = '무조건 후회 안함 강추',\n",
    "            review_image1 = '',\n",
    "            review_image2 = '',\n",
    "            review_image3 = '',\n",
    "            review_image4 = '',\n",
    "            review_image5 = '',\n",
    "            review_time = timezone.localtime(),\n",
    "            is_deleted = False\n",
    "        )"
   ]
  },
  {
   "cell_type": "code",
   "execution_count": 11,
   "metadata": {},
   "outputs": [],
   "source": [
    "for i in range(20):\n",
    "    ReviewComment.objects.create(\n",
    "        user_id = User.objects.get(id = 1),\n",
    "        review_id = Review.objects.get(id = 1),\n",
    "        review_comment_content = f'안녕하세요 {i}번째 댓글 도배중입니다',\n",
    "        review_commnet_time = '2001-01-01',\n",
    "        is_deleted = False\n",
    "    )"
   ]
  },
  {
   "cell_type": "code",
   "execution_count": 30,
   "metadata": {},
   "outputs": [
    {
     "data": {
      "text/plain": [
       "'/review_image/20200902_115034_1_1l6CNc7.jpg'"
      ]
     },
     "execution_count": 30,
     "metadata": {},
     "output_type": "execute_result"
    }
   ],
   "source": [
    "Review.objects.all()[43].review_image1.url"
   ]
  },
  {
   "cell_type": "code",
   "execution_count": 37,
   "metadata": {},
   "outputs": [
    {
     "data": {
      "text/plain": [
       "'정재민'"
      ]
     },
     "execution_count": 37,
     "metadata": {},
     "output_type": "execute_result"
    }
   ],
   "source": [
    "Review.objects.all()[5].user_id.user_name"
   ]
  }
 ],
 "metadata": {
  "kernelspec": {
   "display_name": "py3.11_jg4.2.5_trip",
   "language": "python",
   "name": "python3"
  },
  "language_info": {
   "codemirror_mode": {
    "name": "ipython",
    "version": 3
   },
   "file_extension": ".py",
   "mimetype": "text/x-python",
   "name": "python",
   "nbconvert_exporter": "python",
   "pygments_lexer": "ipython3",
   "version": "3.11.5"
  }
 },
 "nbformat": 4,
 "nbformat_minor": 2
}
