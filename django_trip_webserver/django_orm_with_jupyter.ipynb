{
 "cells": [
  {
   "cell_type": "code",
   "execution_count": 10,
   "metadata": {},
   "outputs": [],
   "source": [
    "import os, sys\n",
    "# PWD = os.getenv('PWD')\n",
    "PWD = os.path.abspath('.')\n",
    "\n",
    "PROJ_MISSING_MSG = \"\"\"Set an enviroment variable:\\n\n",
    "`DJANGO_PROJECT=your_project_name`\\n\n",
    "or call:\\n\n",
    "`init_django(your_project_name)`\n",
    "\"\"\"\n",
    "\n",
    "def init_django(project_name=None):\n",
    "    os.chdir(PWD)\n",
    "    project_name = project_name or os.environ.get('DJANGO_PROJECT') or None\n",
    "    if project_name == None:\n",
    "        raise Exception(PROJ_MISSING_MSG)\n",
    "    sys.path.insert(0, os.getenv('PWD'))\n",
    "    os.environ.setdefault('DJANGO_SETTINGS_MODULE', f'{project_name}.settings')\n",
    "    os.environ[\"DJANGO_ALLOW_ASYNC_UNSAFE\"] = \"true\"\n",
    "    import django\n",
    "    django.setup()"
   ]
  },
  {
   "cell_type": "code",
   "execution_count": 11,
   "metadata": {},
   "outputs": [],
   "source": [
    "init_django('django_trip_webserver') #project name"
   ]
  },
  {
   "cell_type": "code",
   "execution_count": 12,
   "metadata": {},
   "outputs": [],
   "source": [
    "from board.models import Trip, Review, ReviewComment\n",
    "from main.models import TripCategory, AreaL, AreaM\n",
    "from user.models import User"
   ]
  },
  {
   "cell_type": "code",
   "execution_count": 13,
   "metadata": {},
   "outputs": [],
   "source": [
    "trip_category = TripCategory(\n",
    "    trip_category_name = '명소'\n",
    ")\n",
    "\n",
    "trip_category.save()"
   ]
  },
  {
   "cell_type": "code",
   "execution_count": 14,
   "metadata": {},
   "outputs": [],
   "source": [
    "area_large = AreaL(\n",
    "    area_l_name='서울'\n",
    ")\n",
    "\n",
    "area_large.save()"
   ]
  },
  {
   "cell_type": "code",
   "execution_count": 15,
   "metadata": {},
   "outputs": [],
   "source": [
    "area_medium = AreaM(\n",
    "    area_l_id = area_large,\n",
    "    area_m_name = '종로'\n",
    ")\n",
    "\n",
    "area_medium.save()"
   ]
  },
  {
   "cell_type": "code",
   "execution_count": 16,
   "metadata": {},
   "outputs": [],
   "source": [
    "for i in range(9):\n",
    "    Trip.objects.create(\n",
    "        trip_category_id = TripCategory.objects.get(id=1),\n",
    "        trip_category_detail = '상세한 설명',\n",
    "        trip_name = f'종로 여행지{i}',\n",
    "        trip_address = f'{i*534}{i*34643}',\n",
    "        area_m = AreaM.objects.get(id=1),\n",
    "        trip_time = '11:00:00',\n",
    "        trip_phone = f'010-{i}{i}{i}{i}-{i}{i}{i}{i}',\n",
    "        trip_homepage = f'https://jonglo{i*463}{i*2325}.com',\n",
    "        is_deleted = False\n",
    "    )"
   ]
  },
  {
   "cell_type": "code",
   "execution_count": 17,
   "metadata": {},
   "outputs": [
    {
     "ename": "TypeError",
     "evalue": "User() got unexpected keyword arguments: 'user_name', 'user_password', 'user_type', 'trip_category_1_id', 'trip_category_2_id', 'trip_category_3_id', 'is_deleted'",
     "output_type": "error",
     "traceback": [
      "\u001b[1;31m---------------------------------------------------------------------------\u001b[0m",
      "\u001b[1;31mTypeError\u001b[0m                                 Traceback (most recent call last)",
      "\u001b[1;32mc:\\Users\\User\\temp\\skku-webproject-git\\django_trip_webserver\\django_orm_with_jupyter.ipynb Cell 8\u001b[0m line \u001b[0;36m1\n\u001b[1;32m----> <a href='vscode-notebook-cell:/c%3A/Users/User/temp/skku-webproject-git/django_trip_webserver/django_orm_with_jupyter.ipynb#X10sZmlsZQ%3D%3D?line=0'>1</a>\u001b[0m user \u001b[39m=\u001b[39m User(\n\u001b[0;32m      <a href='vscode-notebook-cell:/c%3A/Users/User/temp/skku-webproject-git/django_trip_webserver/django_orm_with_jupyter.ipynb#X10sZmlsZQ%3D%3D?line=1'>2</a>\u001b[0m     user_name \u001b[39m=\u001b[39;49m \u001b[39m'\u001b[39;49m\u001b[39m정재민\u001b[39;49m\u001b[39m'\u001b[39;49m,\n\u001b[0;32m      <a href='vscode-notebook-cell:/c%3A/Users/User/temp/skku-webproject-git/django_trip_webserver/django_orm_with_jupyter.ipynb#X10sZmlsZQ%3D%3D?line=2'>3</a>\u001b[0m     user_password \u001b[39m=\u001b[39;49m \u001b[39m'\u001b[39;49m\u001b[39m1234\u001b[39;49m\u001b[39m'\u001b[39;49m,\n\u001b[0;32m      <a href='vscode-notebook-cell:/c%3A/Users/User/temp/skku-webproject-git/django_trip_webserver/django_orm_with_jupyter.ipynb#X10sZmlsZQ%3D%3D?line=3'>4</a>\u001b[0m     user_type \u001b[39m=\u001b[39;49m \u001b[39m'\u001b[39;49m\u001b[39muser\u001b[39;49m\u001b[39m'\u001b[39;49m,\n\u001b[0;32m      <a href='vscode-notebook-cell:/c%3A/Users/User/temp/skku-webproject-git/django_trip_webserver/django_orm_with_jupyter.ipynb#X10sZmlsZQ%3D%3D?line=4'>5</a>\u001b[0m     trip_category_1_id \u001b[39m=\u001b[39;49m trip_category,\n\u001b[0;32m      <a href='vscode-notebook-cell:/c%3A/Users/User/temp/skku-webproject-git/django_trip_webserver/django_orm_with_jupyter.ipynb#X10sZmlsZQ%3D%3D?line=5'>6</a>\u001b[0m     trip_category_2_id \u001b[39m=\u001b[39;49m trip_category,\n\u001b[0;32m      <a href='vscode-notebook-cell:/c%3A/Users/User/temp/skku-webproject-git/django_trip_webserver/django_orm_with_jupyter.ipynb#X10sZmlsZQ%3D%3D?line=6'>7</a>\u001b[0m     trip_category_3_id \u001b[39m=\u001b[39;49m trip_category,\n\u001b[0;32m      <a href='vscode-notebook-cell:/c%3A/Users/User/temp/skku-webproject-git/django_trip_webserver/django_orm_with_jupyter.ipynb#X10sZmlsZQ%3D%3D?line=7'>8</a>\u001b[0m     is_deleted \u001b[39m=\u001b[39;49m \u001b[39mFalse\u001b[39;49;00m\n\u001b[0;32m      <a href='vscode-notebook-cell:/c%3A/Users/User/temp/skku-webproject-git/django_trip_webserver/django_orm_with_jupyter.ipynb#X10sZmlsZQ%3D%3D?line=8'>9</a>\u001b[0m )\n\u001b[0;32m     <a href='vscode-notebook-cell:/c%3A/Users/User/temp/skku-webproject-git/django_trip_webserver/django_orm_with_jupyter.ipynb#X10sZmlsZQ%3D%3D?line=10'>11</a>\u001b[0m user\u001b[39m.\u001b[39msave()\n",
      "File \u001b[1;32mc:\\Users\\User\\anaconda3\\envs\\py3.11_jg4.2.5_trip\\Lib\\site-packages\\django\\db\\models\\base.py:567\u001b[0m, in \u001b[0;36mModel.__init__\u001b[1;34m(self, *args, **kwargs)\u001b[0m\n\u001b[0;32m    565\u001b[0m     \u001b[39mif\u001b[39;00m unexpected:\n\u001b[0;32m    566\u001b[0m         unexpected_names \u001b[39m=\u001b[39m \u001b[39m\"\u001b[39m\u001b[39m, \u001b[39m\u001b[39m\"\u001b[39m\u001b[39m.\u001b[39mjoin(\u001b[39mrepr\u001b[39m(n) \u001b[39mfor\u001b[39;00m n \u001b[39min\u001b[39;00m unexpected)\n\u001b[1;32m--> 567\u001b[0m         \u001b[39mraise\u001b[39;00m \u001b[39mTypeError\u001b[39;00m(\n\u001b[0;32m    568\u001b[0m             \u001b[39mf\u001b[39m\u001b[39m\"\u001b[39m\u001b[39m{\u001b[39;00m\u001b[39mcls\u001b[39m\u001b[39m.\u001b[39m\u001b[39m__name__\u001b[39m\u001b[39m}\u001b[39;00m\u001b[39m() got unexpected keyword arguments: \u001b[39m\u001b[39m\"\u001b[39m\n\u001b[0;32m    569\u001b[0m             \u001b[39mf\u001b[39m\u001b[39m\"\u001b[39m\u001b[39m{\u001b[39;00munexpected_names\u001b[39m}\u001b[39;00m\u001b[39m\"\u001b[39m\n\u001b[0;32m    570\u001b[0m         )\n\u001b[0;32m    571\u001b[0m \u001b[39msuper\u001b[39m()\u001b[39m.\u001b[39m\u001b[39m__init__\u001b[39m()\n\u001b[0;32m    572\u001b[0m post_init\u001b[39m.\u001b[39msend(sender\u001b[39m=\u001b[39m\u001b[39mcls\u001b[39m, instance\u001b[39m=\u001b[39m\u001b[39mself\u001b[39m)\n",
      "\u001b[1;31mTypeError\u001b[0m: User() got unexpected keyword arguments: 'user_name', 'user_password', 'user_type', 'trip_category_1_id', 'trip_category_2_id', 'trip_category_3_id', 'is_deleted'"
     ]
    }
   ],
   "source": [
    "user = User(\n",
    "    user_name = '정재민',\n",
    "    user_password = '1234',\n",
    "    user_type = 'user',\n",
    "    trip_category_1_id = trip_category,\n",
    "    trip_category_2_id = trip_category,\n",
    "    trip_category_3_id = trip_category,\n",
    "    is_deleted = False\n",
    ")\n",
    "\n",
    "user.save()"
   ]
  },
  {
   "cell_type": "code",
   "execution_count": 9,
   "metadata": {},
   "outputs": [],
   "source": [
    "from django.utils import timezone\n",
    "\n",
    "for i in range(2):\n",
    "    for j in range(5):\n",
    "        Review.objects.create(\n",
    "            user_id = user,\n",
    "            trip_id = Trip.objects.get(id = 1),\n",
    "            review_title = '여기 꼭 가보세요',\n",
    "            review_content = '무조건 후회 안함 강추',\n",
    "            review_image1 = '',\n",
    "            review_image2 = '',\n",
    "            review_image3 = '',\n",
    "            review_image4 = '',\n",
    "            review_image5 = '',\n",
    "            review_time = timezone.localtime(),\n",
    "            is_deleted = False\n",
    "        )"
   ]
  },
  {
   "cell_type": "code",
   "execution_count": 11,
   "metadata": {},
   "outputs": [],
   "source": [
    "for i in range(20):\n",
    "    ReviewComment.objects.create(\n",
    "        user_id = User.objects.get(id = 1),\n",
    "        review_id = Review.objects.get(id = 1),\n",
    "        review_comment_content = f'안녕하세요 {i}번째 댓글 도배중입니다',\n",
    "        review_comment_time = '2001-01-01',\n",
    "        is_deleted = False\n",
    "    )"
   ]
  },
  {
   "cell_type": "code",
   "execution_count": 14,
   "metadata": {},
   "outputs": [
    {
     "data": {
      "text/plain": [
       "<Review: Review object (1)>"
      ]
     },
     "execution_count": 14,
     "metadata": {},
     "output_type": "execute_result"
    }
   ],
   "source": [
    "Review.objects.all()[0]"
   ]
  },
  {
   "cell_type": "code",
   "execution_count": 15,
   "metadata": {},
   "outputs": [
    {
     "data": {
      "text/plain": [
       "'정재민'"
      ]
     },
     "execution_count": 15,
     "metadata": {},
     "output_type": "execute_result"
    }
   ],
   "source": [
    "Review.objects.all()[5].user_id.user_name"
   ]
  },
  {
   "cell_type": "code",
   "execution_count": 19,
   "metadata": {},
   "outputs": [
    {
     "data": {
      "text/plain": [
       "'정재민'"
      ]
     },
     "execution_count": 19,
     "metadata": {},
     "output_type": "execute_result"
    }
   ],
   "source": [
    "ReviewComment.objects.all()[0].user_id.user_name"
   ]
  },
  {
   "cell_type": "code",
   "execution_count": 20,
   "metadata": {},
   "outputs": [
    {
     "data": {
      "text/plain": [
       "datetime.datetime(2023, 10, 17, 10, 42, 35, 614098, tzinfo=datetime.timezone.utc)"
      ]
     },
     "execution_count": 20,
     "metadata": {},
     "output_type": "execute_result"
    }
   ],
   "source": [
    "ReviewComment.objects.all()[0].review_comment_time"
   ]
  }
 ],
 "metadata": {
  "kernelspec": {
   "display_name": "py3.11_jg4.2.5_trip",
   "language": "python",
   "name": "python3"
  },
  "language_info": {
   "codemirror_mode": {
    "name": "ipython",
    "version": 3
   },
   "file_extension": ".py",
   "mimetype": "text/x-python",
   "name": "python",
   "nbconvert_exporter": "python",
   "pygments_lexer": "ipython3",
   "version": "3.11.5"
  }
 },
 "nbformat": 4,
 "nbformat_minor": 2
}
