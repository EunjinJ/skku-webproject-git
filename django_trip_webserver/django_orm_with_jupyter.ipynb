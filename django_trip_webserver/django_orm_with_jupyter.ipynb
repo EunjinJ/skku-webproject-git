{
 "cells": [
  {
   "cell_type": "code",
   "execution_count": 9,
   "metadata": {},
   "outputs": [],
   "source": [
    "import os, sys\n",
    "# PWD = os.getenv('PWD')\n",
    "PWD = os.path.abspath('.')\n",
    "\n",
    "PROJ_MISSING_MSG = \"\"\"Set an enviroment variable:\\n\n",
    "`DJANGO_PROJECT=your_project_name`\\n\n",
    "or call:\\n\n",
    "`init_django(your_project_name)`\n",
    "\"\"\"\n",
    "\n",
    "def init_django(project_name=None):\n",
    "    os.chdir(PWD)\n",
    "    project_name = project_name or os.environ.get('DJANGO_PROJECT') or None\n",
    "    if project_name == None:\n",
    "        raise Exception(PROJ_MISSING_MSG)\n",
    "    sys.path.insert(0, os.getenv('PWD'))\n",
    "    os.environ.setdefault('DJANGO_SETTINGS_MODULE', f'{project_name}.settings')\n",
    "    os.environ[\"DJANGO_ALLOW_ASYNC_UNSAFE\"] = \"true\"\n",
    "    import django\n",
    "    django.setup()"
   ]
  },
  {
   "cell_type": "code",
   "execution_count": 10,
   "metadata": {},
   "outputs": [],
   "source": [
    "init_django('django_trip_webserver') #project name"
   ]
  },
  {
   "cell_type": "code",
   "execution_count": 21,
   "metadata": {},
   "outputs": [],
   "source": [
    "from board.models import Trip, Review, ReviewComment\n",
    "from main.models import TripCategory, AreaL, AreaM\n",
    "from user.models import User"
   ]
  },
  {
   "cell_type": "code",
   "execution_count": 12,
   "metadata": {},
   "outputs": [],
   "source": [
    "trip_category = TripCategory(\n",
    "    trip_category_name = '명소'\n",
    ")\n",
    "\n",
    "trip_category.save()"
   ]
  },
  {
   "cell_type": "code",
   "execution_count": 13,
   "metadata": {},
   "outputs": [],
   "source": [
    "area_large = AreaL(\n",
    "    area_l_name='서울'\n",
    ")\n",
    "\n",
    "area_large.save()"
   ]
  },
  {
   "cell_type": "code",
   "execution_count": 14,
   "metadata": {},
   "outputs": [],
   "source": [
    "area_medium = AreaM(\n",
    "    area_l_id = area_large,\n",
    "    area_m_name = '종로'\n",
    ")\n",
    "\n",
    "area_medium.save()"
   ]
  },
  {
   "cell_type": "code",
   "execution_count": 16,
   "metadata": {},
   "outputs": [],
   "source": [
    "for i in range(9):\n",
    "    Trip.objects.create(\n",
    "        trip_category_id = TripCategory.objects.get(id=1),\n",
    "        trip_category_detail = '상세한 설명',\n",
    "        trip_name = f'종로 여행지{i}',\n",
    "        trip_address = f'{i*534}{i*34643}',\n",
    "        area_m = AreaM.objects.get(id=1),\n",
    "        trip_time = '11:00:00',\n",
    "        trip_phone = f'010-{i}{i}{i}{i}-{i}{i}{i}{i}',\n",
    "        trip_homepage = f'https://jonglo{i*463}{i*2325}.com',\n",
    "        is_deleted = False\n",
    "    )"
   ]
  },
  {
   "cell_type": "code",
   "execution_count": 25,
   "metadata": {},
   "outputs": [
    {
     "ename": "OperationalError",
     "evalue": "(1054, \"Unknown column 'user_type' in 'field list'\")",
     "output_type": "error",
     "traceback": [
      "\u001b[1;31m---------------------------------------------------------------------------\u001b[0m",
      "\u001b[1;31mOperationalError\u001b[0m                          Traceback (most recent call last)",
      "File \u001b[1;32mc:\\Users\\User\\anaconda3\\envs\\py3.11_jg4.2.5_trip\\Lib\\site-packages\\django\\db\\backends\\utils.py:89\u001b[0m, in \u001b[0;36mCursorWrapper._execute\u001b[1;34m(self, sql, params, *ignored_wrapper_args)\u001b[0m\n\u001b[0;32m     88\u001b[0m \u001b[39melse\u001b[39;00m:\n\u001b[1;32m---> 89\u001b[0m     \u001b[39mreturn\u001b[39;00m \u001b[39mself\u001b[39;49m\u001b[39m.\u001b[39;49mcursor\u001b[39m.\u001b[39;49mexecute(sql, params)\n",
      "File \u001b[1;32mc:\\Users\\User\\anaconda3\\envs\\py3.11_jg4.2.5_trip\\Lib\\site-packages\\django\\db\\backends\\mysql\\base.py:75\u001b[0m, in \u001b[0;36mCursorWrapper.execute\u001b[1;34m(self, query, args)\u001b[0m\n\u001b[0;32m     73\u001b[0m \u001b[39mtry\u001b[39;00m:\n\u001b[0;32m     74\u001b[0m     \u001b[39m# args is None means no string interpolation\u001b[39;00m\n\u001b[1;32m---> 75\u001b[0m     \u001b[39mreturn\u001b[39;00m \u001b[39mself\u001b[39;49m\u001b[39m.\u001b[39;49mcursor\u001b[39m.\u001b[39;49mexecute(query, args)\n\u001b[0;32m     76\u001b[0m \u001b[39mexcept\u001b[39;00m Database\u001b[39m.\u001b[39mOperationalError \u001b[39mas\u001b[39;00m e:\n\u001b[0;32m     77\u001b[0m     \u001b[39m# Map some error codes to IntegrityError, since they seem to be\u001b[39;00m\n\u001b[0;32m     78\u001b[0m     \u001b[39m# misclassified and Django would prefer the more logical place.\u001b[39;00m\n",
      "File \u001b[1;32mc:\\Users\\User\\anaconda3\\envs\\py3.11_jg4.2.5_trip\\Lib\\site-packages\\MySQLdb\\cursors.py:179\u001b[0m, in \u001b[0;36mBaseCursor.execute\u001b[1;34m(self, query, args)\u001b[0m\n\u001b[0;32m    178\u001b[0m \u001b[39massert\u001b[39;00m \u001b[39misinstance\u001b[39m(mogrified_query, (\u001b[39mbytes\u001b[39m, \u001b[39mbytearray\u001b[39m))\n\u001b[1;32m--> 179\u001b[0m res \u001b[39m=\u001b[39m \u001b[39mself\u001b[39;49m\u001b[39m.\u001b[39;49m_query(mogrified_query)\n\u001b[0;32m    180\u001b[0m \u001b[39mreturn\u001b[39;00m res\n",
      "File \u001b[1;32mc:\\Users\\User\\anaconda3\\envs\\py3.11_jg4.2.5_trip\\Lib\\site-packages\\MySQLdb\\cursors.py:330\u001b[0m, in \u001b[0;36mBaseCursor._query\u001b[1;34m(self, q)\u001b[0m\n\u001b[0;32m    329\u001b[0m \u001b[39mself\u001b[39m\u001b[39m.\u001b[39mlastrowid \u001b[39m=\u001b[39m \u001b[39mNone\u001b[39;00m\n\u001b[1;32m--> 330\u001b[0m db\u001b[39m.\u001b[39;49mquery(q)\n\u001b[0;32m    331\u001b[0m \u001b[39mself\u001b[39m\u001b[39m.\u001b[39m_do_get_result(db)\n",
      "File \u001b[1;32mc:\\Users\\User\\anaconda3\\envs\\py3.11_jg4.2.5_trip\\Lib\\site-packages\\MySQLdb\\connections.py:255\u001b[0m, in \u001b[0;36mConnection.query\u001b[1;34m(self, query)\u001b[0m\n\u001b[0;32m    254\u001b[0m     query \u001b[39m=\u001b[39m \u001b[39mbytes\u001b[39m(query)\n\u001b[1;32m--> 255\u001b[0m _mysql\u001b[39m.\u001b[39;49mconnection\u001b[39m.\u001b[39;49mquery(\u001b[39mself\u001b[39;49m, query)\n",
      "\u001b[1;31mOperationalError\u001b[0m: (1054, \"Unknown column 'user_type' in 'field list'\")",
      "\nThe above exception was the direct cause of the following exception:\n",
      "\u001b[1;31mOperationalError\u001b[0m                          Traceback (most recent call last)",
      "\u001b[1;32mc:\\Users\\User\\temp\\skku-webproject-git\\django_trip_webserver\\django_orm_with_jupyter.ipynb Cell 8\u001b[0m line \u001b[0;36m1\n\u001b[0;32m      <a href='vscode-notebook-cell:/c%3A/Users/User/temp/skku-webproject-git/django_trip_webserver/django_orm_with_jupyter.ipynb#X40sZmlsZQ%3D%3D?line=0'>1</a>\u001b[0m user \u001b[39m=\u001b[39m User(\n\u001b[0;32m      <a href='vscode-notebook-cell:/c%3A/Users/User/temp/skku-webproject-git/django_trip_webserver/django_orm_with_jupyter.ipynb#X40sZmlsZQ%3D%3D?line=1'>2</a>\u001b[0m     user_name \u001b[39m=\u001b[39m \u001b[39m'\u001b[39m\u001b[39m정재민\u001b[39m\u001b[39m'\u001b[39m,\n\u001b[0;32m      <a href='vscode-notebook-cell:/c%3A/Users/User/temp/skku-webproject-git/django_trip_webserver/django_orm_with_jupyter.ipynb#X40sZmlsZQ%3D%3D?line=2'>3</a>\u001b[0m     user_password \u001b[39m=\u001b[39m \u001b[39m'\u001b[39m\u001b[39m1234\u001b[39m\u001b[39m'\u001b[39m,\n\u001b[1;32m   (...)\u001b[0m\n\u001b[0;32m      <a href='vscode-notebook-cell:/c%3A/Users/User/temp/skku-webproject-git/django_trip_webserver/django_orm_with_jupyter.ipynb#X40sZmlsZQ%3D%3D?line=7'>8</a>\u001b[0m     is_deleted \u001b[39m=\u001b[39m \u001b[39mFalse\u001b[39;00m\n\u001b[0;32m      <a href='vscode-notebook-cell:/c%3A/Users/User/temp/skku-webproject-git/django_trip_webserver/django_orm_with_jupyter.ipynb#X40sZmlsZQ%3D%3D?line=8'>9</a>\u001b[0m )\n\u001b[1;32m---> <a href='vscode-notebook-cell:/c%3A/Users/User/temp/skku-webproject-git/django_trip_webserver/django_orm_with_jupyter.ipynb#X40sZmlsZQ%3D%3D?line=10'>11</a>\u001b[0m user\u001b[39m.\u001b[39;49msave()\n",
      "File \u001b[1;32mc:\\Users\\User\\anaconda3\\envs\\py3.11_jg4.2.5_trip\\Lib\\site-packages\\django\\db\\models\\base.py:814\u001b[0m, in \u001b[0;36mModel.save\u001b[1;34m(self, force_insert, force_update, using, update_fields)\u001b[0m\n\u001b[0;32m    811\u001b[0m     \u001b[39mif\u001b[39;00m loaded_fields:\n\u001b[0;32m    812\u001b[0m         update_fields \u001b[39m=\u001b[39m \u001b[39mfrozenset\u001b[39m(loaded_fields)\n\u001b[1;32m--> 814\u001b[0m \u001b[39mself\u001b[39;49m\u001b[39m.\u001b[39;49msave_base(\n\u001b[0;32m    815\u001b[0m     using\u001b[39m=\u001b[39;49musing,\n\u001b[0;32m    816\u001b[0m     force_insert\u001b[39m=\u001b[39;49mforce_insert,\n\u001b[0;32m    817\u001b[0m     force_update\u001b[39m=\u001b[39;49mforce_update,\n\u001b[0;32m    818\u001b[0m     update_fields\u001b[39m=\u001b[39;49mupdate_fields,\n\u001b[0;32m    819\u001b[0m )\n",
      "File \u001b[1;32mc:\\Users\\User\\anaconda3\\envs\\py3.11_jg4.2.5_trip\\Lib\\site-packages\\django\\db\\models\\base.py:877\u001b[0m, in \u001b[0;36mModel.save_base\u001b[1;34m(self, raw, force_insert, force_update, using, update_fields)\u001b[0m\n\u001b[0;32m    875\u001b[0m     \u001b[39mif\u001b[39;00m \u001b[39mnot\u001b[39;00m raw:\n\u001b[0;32m    876\u001b[0m         parent_inserted \u001b[39m=\u001b[39m \u001b[39mself\u001b[39m\u001b[39m.\u001b[39m_save_parents(\u001b[39mcls\u001b[39m, using, update_fields)\n\u001b[1;32m--> 877\u001b[0m     updated \u001b[39m=\u001b[39m \u001b[39mself\u001b[39;49m\u001b[39m.\u001b[39;49m_save_table(\n\u001b[0;32m    878\u001b[0m         raw,\n\u001b[0;32m    879\u001b[0m         \u001b[39mcls\u001b[39;49m,\n\u001b[0;32m    880\u001b[0m         force_insert \u001b[39mor\u001b[39;49;00m parent_inserted,\n\u001b[0;32m    881\u001b[0m         force_update,\n\u001b[0;32m    882\u001b[0m         using,\n\u001b[0;32m    883\u001b[0m         update_fields,\n\u001b[0;32m    884\u001b[0m     )\n\u001b[0;32m    885\u001b[0m \u001b[39m# Store the database on which the object was saved\u001b[39;00m\n\u001b[0;32m    886\u001b[0m \u001b[39mself\u001b[39m\u001b[39m.\u001b[39m_state\u001b[39m.\u001b[39mdb \u001b[39m=\u001b[39m using\n",
      "File \u001b[1;32mc:\\Users\\User\\anaconda3\\envs\\py3.11_jg4.2.5_trip\\Lib\\site-packages\\django\\db\\models\\base.py:990\u001b[0m, in \u001b[0;36mModel._save_table\u001b[1;34m(self, raw, cls, force_insert, force_update, using, update_fields)\u001b[0m\n\u001b[0;32m    981\u001b[0m values \u001b[39m=\u001b[39m [\n\u001b[0;32m    982\u001b[0m     (\n\u001b[0;32m    983\u001b[0m         f,\n\u001b[1;32m   (...)\u001b[0m\n\u001b[0;32m    987\u001b[0m     \u001b[39mfor\u001b[39;00m f \u001b[39min\u001b[39;00m non_pks\n\u001b[0;32m    988\u001b[0m ]\n\u001b[0;32m    989\u001b[0m forced_update \u001b[39m=\u001b[39m update_fields \u001b[39mor\u001b[39;00m force_update\n\u001b[1;32m--> 990\u001b[0m updated \u001b[39m=\u001b[39m \u001b[39mself\u001b[39;49m\u001b[39m.\u001b[39;49m_do_update(\n\u001b[0;32m    991\u001b[0m     base_qs, using, pk_val, values, update_fields, forced_update\n\u001b[0;32m    992\u001b[0m )\n\u001b[0;32m    993\u001b[0m \u001b[39mif\u001b[39;00m force_update \u001b[39mand\u001b[39;00m \u001b[39mnot\u001b[39;00m updated:\n\u001b[0;32m    994\u001b[0m     \u001b[39mraise\u001b[39;00m DatabaseError(\u001b[39m\"\u001b[39m\u001b[39mForced update did not affect any rows.\u001b[39m\u001b[39m\"\u001b[39m)\n",
      "File \u001b[1;32mc:\\Users\\User\\anaconda3\\envs\\py3.11_jg4.2.5_trip\\Lib\\site-packages\\django\\db\\models\\base.py:1054\u001b[0m, in \u001b[0;36mModel._do_update\u001b[1;34m(self, base_qs, using, pk_val, values, update_fields, forced_update)\u001b[0m\n\u001b[0;32m   1041\u001b[0m \u001b[39mif\u001b[39;00m \u001b[39mself\u001b[39m\u001b[39m.\u001b[39m_meta\u001b[39m.\u001b[39mselect_on_save \u001b[39mand\u001b[39;00m \u001b[39mnot\u001b[39;00m forced_update:\n\u001b[0;32m   1042\u001b[0m     \u001b[39mreturn\u001b[39;00m (\n\u001b[0;32m   1043\u001b[0m         filtered\u001b[39m.\u001b[39mexists()\n\u001b[0;32m   1044\u001b[0m         \u001b[39mand\u001b[39;00m\n\u001b[1;32m   (...)\u001b[0m\n\u001b[0;32m   1052\u001b[0m         (filtered\u001b[39m.\u001b[39m_update(values) \u001b[39m>\u001b[39m \u001b[39m0\u001b[39m \u001b[39mor\u001b[39;00m filtered\u001b[39m.\u001b[39mexists())\n\u001b[0;32m   1053\u001b[0m     )\n\u001b[1;32m-> 1054\u001b[0m \u001b[39mreturn\u001b[39;00m filtered\u001b[39m.\u001b[39;49m_update(values) \u001b[39m>\u001b[39m \u001b[39m0\u001b[39m\n",
      "File \u001b[1;32mc:\\Users\\User\\anaconda3\\envs\\py3.11_jg4.2.5_trip\\Lib\\site-packages\\django\\db\\models\\query.py:1231\u001b[0m, in \u001b[0;36mQuerySet._update\u001b[1;34m(self, values)\u001b[0m\n\u001b[0;32m   1229\u001b[0m query\u001b[39m.\u001b[39mannotations \u001b[39m=\u001b[39m {}\n\u001b[0;32m   1230\u001b[0m \u001b[39mself\u001b[39m\u001b[39m.\u001b[39m_result_cache \u001b[39m=\u001b[39m \u001b[39mNone\u001b[39;00m\n\u001b[1;32m-> 1231\u001b[0m \u001b[39mreturn\u001b[39;00m query\u001b[39m.\u001b[39;49mget_compiler(\u001b[39mself\u001b[39;49m\u001b[39m.\u001b[39;49mdb)\u001b[39m.\u001b[39;49mexecute_sql(CURSOR)\n",
      "File \u001b[1;32mc:\\Users\\User\\anaconda3\\envs\\py3.11_jg4.2.5_trip\\Lib\\site-packages\\django\\db\\models\\sql\\compiler.py:1984\u001b[0m, in \u001b[0;36mSQLUpdateCompiler.execute_sql\u001b[1;34m(self, result_type)\u001b[0m\n\u001b[0;32m   1977\u001b[0m \u001b[39mdef\u001b[39;00m \u001b[39mexecute_sql\u001b[39m(\u001b[39mself\u001b[39m, result_type):\n\u001b[0;32m   1978\u001b[0m \u001b[39m    \u001b[39m\u001b[39m\"\"\"\u001b[39;00m\n\u001b[0;32m   1979\u001b[0m \u001b[39m    Execute the specified update. Return the number of rows affected by\u001b[39;00m\n\u001b[0;32m   1980\u001b[0m \u001b[39m    the primary update query. The \"primary update query\" is the first\u001b[39;00m\n\u001b[0;32m   1981\u001b[0m \u001b[39m    non-empty query that is executed. Row counts for any subsequent,\u001b[39;00m\n\u001b[0;32m   1982\u001b[0m \u001b[39m    related queries are not available.\u001b[39;00m\n\u001b[0;32m   1983\u001b[0m \u001b[39m    \"\"\"\u001b[39;00m\n\u001b[1;32m-> 1984\u001b[0m     cursor \u001b[39m=\u001b[39m \u001b[39msuper\u001b[39;49m()\u001b[39m.\u001b[39;49mexecute_sql(result_type)\n\u001b[0;32m   1985\u001b[0m     \u001b[39mtry\u001b[39;00m:\n\u001b[0;32m   1986\u001b[0m         rows \u001b[39m=\u001b[39m cursor\u001b[39m.\u001b[39mrowcount \u001b[39mif\u001b[39;00m cursor \u001b[39melse\u001b[39;00m \u001b[39m0\u001b[39m\n",
      "File \u001b[1;32mc:\\Users\\User\\anaconda3\\envs\\py3.11_jg4.2.5_trip\\Lib\\site-packages\\django\\db\\models\\sql\\compiler.py:1562\u001b[0m, in \u001b[0;36mSQLCompiler.execute_sql\u001b[1;34m(self, result_type, chunked_fetch, chunk_size)\u001b[0m\n\u001b[0;32m   1560\u001b[0m     cursor \u001b[39m=\u001b[39m \u001b[39mself\u001b[39m\u001b[39m.\u001b[39mconnection\u001b[39m.\u001b[39mcursor()\n\u001b[0;32m   1561\u001b[0m \u001b[39mtry\u001b[39;00m:\n\u001b[1;32m-> 1562\u001b[0m     cursor\u001b[39m.\u001b[39;49mexecute(sql, params)\n\u001b[0;32m   1563\u001b[0m \u001b[39mexcept\u001b[39;00m \u001b[39mException\u001b[39;00m:\n\u001b[0;32m   1564\u001b[0m     \u001b[39m# Might fail for server-side cursors (e.g. connection closed)\u001b[39;00m\n\u001b[0;32m   1565\u001b[0m     cursor\u001b[39m.\u001b[39mclose()\n",
      "File \u001b[1;32mc:\\Users\\User\\anaconda3\\envs\\py3.11_jg4.2.5_trip\\Lib\\site-packages\\django\\db\\backends\\utils.py:102\u001b[0m, in \u001b[0;36mCursorDebugWrapper.execute\u001b[1;34m(self, sql, params)\u001b[0m\n\u001b[0;32m    100\u001b[0m \u001b[39mdef\u001b[39;00m \u001b[39mexecute\u001b[39m(\u001b[39mself\u001b[39m, sql, params\u001b[39m=\u001b[39m\u001b[39mNone\u001b[39;00m):\n\u001b[0;32m    101\u001b[0m     \u001b[39mwith\u001b[39;00m \u001b[39mself\u001b[39m\u001b[39m.\u001b[39mdebug_sql(sql, params, use_last_executed_query\u001b[39m=\u001b[39m\u001b[39mTrue\u001b[39;00m):\n\u001b[1;32m--> 102\u001b[0m         \u001b[39mreturn\u001b[39;00m \u001b[39msuper\u001b[39;49m()\u001b[39m.\u001b[39;49mexecute(sql, params)\n",
      "File \u001b[1;32mc:\\Users\\User\\anaconda3\\envs\\py3.11_jg4.2.5_trip\\Lib\\site-packages\\django\\db\\backends\\utils.py:67\u001b[0m, in \u001b[0;36mCursorWrapper.execute\u001b[1;34m(self, sql, params)\u001b[0m\n\u001b[0;32m     66\u001b[0m \u001b[39mdef\u001b[39;00m \u001b[39mexecute\u001b[39m(\u001b[39mself\u001b[39m, sql, params\u001b[39m=\u001b[39m\u001b[39mNone\u001b[39;00m):\n\u001b[1;32m---> 67\u001b[0m     \u001b[39mreturn\u001b[39;00m \u001b[39mself\u001b[39;49m\u001b[39m.\u001b[39;49m_execute_with_wrappers(\n\u001b[0;32m     68\u001b[0m         sql, params, many\u001b[39m=\u001b[39;49m\u001b[39mFalse\u001b[39;49;00m, executor\u001b[39m=\u001b[39;49m\u001b[39mself\u001b[39;49m\u001b[39m.\u001b[39;49m_execute\n\u001b[0;32m     69\u001b[0m     )\n",
      "File \u001b[1;32mc:\\Users\\User\\anaconda3\\envs\\py3.11_jg4.2.5_trip\\Lib\\site-packages\\django\\db\\backends\\utils.py:80\u001b[0m, in \u001b[0;36mCursorWrapper._execute_with_wrappers\u001b[1;34m(self, sql, params, many, executor)\u001b[0m\n\u001b[0;32m     78\u001b[0m \u001b[39mfor\u001b[39;00m wrapper \u001b[39min\u001b[39;00m \u001b[39mreversed\u001b[39m(\u001b[39mself\u001b[39m\u001b[39m.\u001b[39mdb\u001b[39m.\u001b[39mexecute_wrappers):\n\u001b[0;32m     79\u001b[0m     executor \u001b[39m=\u001b[39m functools\u001b[39m.\u001b[39mpartial(wrapper, executor)\n\u001b[1;32m---> 80\u001b[0m \u001b[39mreturn\u001b[39;00m executor(sql, params, many, context)\n",
      "File \u001b[1;32mc:\\Users\\User\\anaconda3\\envs\\py3.11_jg4.2.5_trip\\Lib\\site-packages\\django\\db\\backends\\utils.py:84\u001b[0m, in \u001b[0;36mCursorWrapper._execute\u001b[1;34m(self, sql, params, *ignored_wrapper_args)\u001b[0m\n\u001b[0;32m     82\u001b[0m \u001b[39mdef\u001b[39;00m \u001b[39m_execute\u001b[39m(\u001b[39mself\u001b[39m, sql, params, \u001b[39m*\u001b[39mignored_wrapper_args):\n\u001b[0;32m     83\u001b[0m     \u001b[39mself\u001b[39m\u001b[39m.\u001b[39mdb\u001b[39m.\u001b[39mvalidate_no_broken_transaction()\n\u001b[1;32m---> 84\u001b[0m     \u001b[39mwith\u001b[39;49;00m \u001b[39mself\u001b[39;49m\u001b[39m.\u001b[39;49mdb\u001b[39m.\u001b[39;49mwrap_database_errors:\n\u001b[0;32m     85\u001b[0m         \u001b[39mif\u001b[39;49;00m params \u001b[39mis\u001b[39;49;00m \u001b[39mNone\u001b[39;49;00m:\n\u001b[0;32m     86\u001b[0m             \u001b[39m# params default might be backend specific.\u001b[39;49;00m\n\u001b[0;32m     87\u001b[0m             \u001b[39mreturn\u001b[39;49;00m \u001b[39mself\u001b[39;49m\u001b[39m.\u001b[39;49mcursor\u001b[39m.\u001b[39;49mexecute(sql)\n",
      "File \u001b[1;32mc:\\Users\\User\\anaconda3\\envs\\py3.11_jg4.2.5_trip\\Lib\\site-packages\\django\\db\\utils.py:91\u001b[0m, in \u001b[0;36mDatabaseErrorWrapper.__exit__\u001b[1;34m(self, exc_type, exc_value, traceback)\u001b[0m\n\u001b[0;32m     89\u001b[0m \u001b[39mif\u001b[39;00m dj_exc_type \u001b[39mnot\u001b[39;00m \u001b[39min\u001b[39;00m (DataError, IntegrityError):\n\u001b[0;32m     90\u001b[0m     \u001b[39mself\u001b[39m\u001b[39m.\u001b[39mwrapper\u001b[39m.\u001b[39merrors_occurred \u001b[39m=\u001b[39m \u001b[39mTrue\u001b[39;00m\n\u001b[1;32m---> 91\u001b[0m \u001b[39mraise\u001b[39;00m dj_exc_value\u001b[39m.\u001b[39mwith_traceback(traceback) \u001b[39mfrom\u001b[39;00m \u001b[39mexc_value\u001b[39;00m\n",
      "File \u001b[1;32mc:\\Users\\User\\anaconda3\\envs\\py3.11_jg4.2.5_trip\\Lib\\site-packages\\django\\db\\backends\\utils.py:89\u001b[0m, in \u001b[0;36mCursorWrapper._execute\u001b[1;34m(self, sql, params, *ignored_wrapper_args)\u001b[0m\n\u001b[0;32m     87\u001b[0m     \u001b[39mreturn\u001b[39;00m \u001b[39mself\u001b[39m\u001b[39m.\u001b[39mcursor\u001b[39m.\u001b[39mexecute(sql)\n\u001b[0;32m     88\u001b[0m \u001b[39melse\u001b[39;00m:\n\u001b[1;32m---> 89\u001b[0m     \u001b[39mreturn\u001b[39;00m \u001b[39mself\u001b[39;49m\u001b[39m.\u001b[39;49mcursor\u001b[39m.\u001b[39;49mexecute(sql, params)\n",
      "File \u001b[1;32mc:\\Users\\User\\anaconda3\\envs\\py3.11_jg4.2.5_trip\\Lib\\site-packages\\django\\db\\backends\\mysql\\base.py:75\u001b[0m, in \u001b[0;36mCursorWrapper.execute\u001b[1;34m(self, query, args)\u001b[0m\n\u001b[0;32m     72\u001b[0m \u001b[39mdef\u001b[39;00m \u001b[39mexecute\u001b[39m(\u001b[39mself\u001b[39m, query, args\u001b[39m=\u001b[39m\u001b[39mNone\u001b[39;00m):\n\u001b[0;32m     73\u001b[0m     \u001b[39mtry\u001b[39;00m:\n\u001b[0;32m     74\u001b[0m         \u001b[39m# args is None means no string interpolation\u001b[39;00m\n\u001b[1;32m---> 75\u001b[0m         \u001b[39mreturn\u001b[39;00m \u001b[39mself\u001b[39;49m\u001b[39m.\u001b[39;49mcursor\u001b[39m.\u001b[39;49mexecute(query, args)\n\u001b[0;32m     76\u001b[0m     \u001b[39mexcept\u001b[39;00m Database\u001b[39m.\u001b[39mOperationalError \u001b[39mas\u001b[39;00m e:\n\u001b[0;32m     77\u001b[0m         \u001b[39m# Map some error codes to IntegrityError, since they seem to be\u001b[39;00m\n\u001b[0;32m     78\u001b[0m         \u001b[39m# misclassified and Django would prefer the more logical place.\u001b[39;00m\n\u001b[0;32m     79\u001b[0m         \u001b[39mif\u001b[39;00m e\u001b[39m.\u001b[39margs[\u001b[39m0\u001b[39m] \u001b[39min\u001b[39;00m \u001b[39mself\u001b[39m\u001b[39m.\u001b[39mcodes_for_integrityerror:\n",
      "File \u001b[1;32mc:\\Users\\User\\anaconda3\\envs\\py3.11_jg4.2.5_trip\\Lib\\site-packages\\MySQLdb\\cursors.py:179\u001b[0m, in \u001b[0;36mBaseCursor.execute\u001b[1;34m(self, query, args)\u001b[0m\n\u001b[0;32m    176\u001b[0m mogrified_query \u001b[39m=\u001b[39m \u001b[39mself\u001b[39m\u001b[39m.\u001b[39m_mogrify(query, args)\n\u001b[0;32m    178\u001b[0m \u001b[39massert\u001b[39;00m \u001b[39misinstance\u001b[39m(mogrified_query, (\u001b[39mbytes\u001b[39m, \u001b[39mbytearray\u001b[39m))\n\u001b[1;32m--> 179\u001b[0m res \u001b[39m=\u001b[39m \u001b[39mself\u001b[39;49m\u001b[39m.\u001b[39;49m_query(mogrified_query)\n\u001b[0;32m    180\u001b[0m \u001b[39mreturn\u001b[39;00m res\n",
      "File \u001b[1;32mc:\\Users\\User\\anaconda3\\envs\\py3.11_jg4.2.5_trip\\Lib\\site-packages\\MySQLdb\\cursors.py:330\u001b[0m, in \u001b[0;36mBaseCursor._query\u001b[1;34m(self, q)\u001b[0m\n\u001b[0;32m    328\u001b[0m \u001b[39mself\u001b[39m\u001b[39m.\u001b[39mrowcount \u001b[39m=\u001b[39m \u001b[39mNone\u001b[39;00m\n\u001b[0;32m    329\u001b[0m \u001b[39mself\u001b[39m\u001b[39m.\u001b[39mlastrowid \u001b[39m=\u001b[39m \u001b[39mNone\u001b[39;00m\n\u001b[1;32m--> 330\u001b[0m db\u001b[39m.\u001b[39;49mquery(q)\n\u001b[0;32m    331\u001b[0m \u001b[39mself\u001b[39m\u001b[39m.\u001b[39m_do_get_result(db)\n\u001b[0;32m    332\u001b[0m \u001b[39mself\u001b[39m\u001b[39m.\u001b[39m_post_get_result()\n",
      "File \u001b[1;32mc:\\Users\\User\\anaconda3\\envs\\py3.11_jg4.2.5_trip\\Lib\\site-packages\\MySQLdb\\connections.py:255\u001b[0m, in \u001b[0;36mConnection.query\u001b[1;34m(self, query)\u001b[0m\n\u001b[0;32m    253\u001b[0m \u001b[39mif\u001b[39;00m \u001b[39misinstance\u001b[39m(query, \u001b[39mbytearray\u001b[39m):\n\u001b[0;32m    254\u001b[0m     query \u001b[39m=\u001b[39m \u001b[39mbytes\u001b[39m(query)\n\u001b[1;32m--> 255\u001b[0m _mysql\u001b[39m.\u001b[39;49mconnection\u001b[39m.\u001b[39;49mquery(\u001b[39mself\u001b[39;49m, query)\n",
      "\u001b[1;31mOperationalError\u001b[0m: (1054, \"Unknown column 'user_type' in 'field list'\")"
     ]
    }
   ],
   "source": [
    "user = User(\n",
    "    user_name = '정재민',\n",
    "    user_password = '1234',\n",
    "    user_type = 'user',\n",
    "    trip_category_1_id = trip_category,\n",
    "    trip_category_2_id = trip_category,\n",
    "    trip_category_3_id = trip_category,\n",
    "    is_deleted = False\n",
    ")\n",
    "\n",
    "user.save()"
   ]
  },
  {
   "cell_type": "code",
   "execution_count": 9,
   "metadata": {},
   "outputs": [],
   "source": [
    "from django.utils import timezone\n",
    "\n",
    "for i in range(2):\n",
    "    for j in range(5):\n",
    "        Review.objects.create(\n",
    "            user_id = user,\n",
    "            trip_id = Trip.objects.get(id = 1),\n",
    "            review_title = '여기 꼭 가보세요',\n",
    "            review_content = '무조건 후회 안함 강추',\n",
    "            review_image1 = '',\n",
    "            review_image2 = '',\n",
    "            review_image3 = '',\n",
    "            review_image4 = '',\n",
    "            review_image5 = '',\n",
    "            review_time = timezone.localtime(),\n",
    "            is_deleted = False\n",
    "        )"
   ]
  },
  {
   "cell_type": "code",
   "execution_count": 11,
   "metadata": {},
   "outputs": [],
   "source": [
    "for i in range(20):\n",
    "    ReviewComment.objects.create(\n",
    "        user_id = User.objects.get(id = 1),\n",
    "        review_id = Review.objects.get(id = 1),\n",
    "        review_comment_content = f'안녕하세요 {i}번째 댓글 도배중입니다',\n",
    "        review_comment_time = '2001-01-01',\n",
    "        is_deleted = False\n",
    "    )"
   ]
  },
  {
   "cell_type": "code",
   "execution_count": 14,
   "metadata": {},
   "outputs": [
    {
     "data": {
      "text/plain": [
       "<Review: Review object (1)>"
      ]
     },
     "execution_count": 14,
     "metadata": {},
     "output_type": "execute_result"
    }
   ],
   "source": [
    "Review.objects.all()[0]"
   ]
  },
  {
   "cell_type": "code",
   "execution_count": 15,
   "metadata": {},
   "outputs": [
    {
     "data": {
      "text/plain": [
       "'정재민'"
      ]
     },
     "execution_count": 15,
     "metadata": {},
     "output_type": "execute_result"
    }
   ],
   "source": [
    "Review.objects.all()[5].user_id.user_name"
   ]
  },
  {
   "cell_type": "code",
   "execution_count": 19,
   "metadata": {},
   "outputs": [
    {
     "data": {
      "text/plain": [
       "'정재민'"
      ]
     },
     "execution_count": 19,
     "metadata": {},
     "output_type": "execute_result"
    }
   ],
   "source": [
    "ReviewComment.objects.all()[0].user_id.user_name"
   ]
  },
  {
   "cell_type": "code",
   "execution_count": 20,
   "metadata": {},
   "outputs": [
    {
     "data": {
      "text/plain": [
       "datetime.datetime(2023, 10, 17, 10, 42, 35, 614098, tzinfo=datetime.timezone.utc)"
      ]
     },
     "execution_count": 20,
     "metadata": {},
     "output_type": "execute_result"
    }
   ],
   "source": [
    "ReviewComment.objects.all()[0].review_comment_time"
   ]
  }
 ],
 "metadata": {
  "kernelspec": {
   "display_name": "py3.11_jg4.2.5_trip",
   "language": "python",
   "name": "python3"
  },
  "language_info": {
   "codemirror_mode": {
    "name": "ipython",
    "version": 3
   },
   "file_extension": ".py",
   "mimetype": "text/x-python",
   "name": "python",
   "nbconvert_exporter": "python",
   "pygments_lexer": "ipython3",
   "version": "3.11.5"
  }
 },
 "nbformat": 4,
 "nbformat_minor": 2
}
